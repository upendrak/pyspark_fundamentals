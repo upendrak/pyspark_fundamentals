{
  "nbformat": 4,
  "nbformat_minor": 0,
  "metadata": {
    "colab": {
      "name": "PySpark_ML.ipynb",
      "provenance": [],
      "collapsed_sections": [],
      "authorship_tag": "ABX9TyPDJ9TwxYvsNgv6RJ5998o8",
      "include_colab_link": true
    },
    "kernelspec": {
      "name": "python3",
      "display_name": "Python 3"
    },
    "language_info": {
      "name": "python"
    }
  },
  "cells": [
    {
      "cell_type": "markdown",
      "metadata": {
        "id": "view-in-github",
        "colab_type": "text"
      },
      "source": [
        "<a href=\"https://colab.research.google.com/github/upendrak/pyspark_fundamentals/blob/main/PySpark_ML.ipynb\" target=\"_parent\"><img src=\"https://colab.research.google.com/assets/colab-badge.svg\" alt=\"Open In Colab\"/></a>"
      ]
    },
    {
      "cell_type": "code",
      "execution_count": 1,
      "metadata": {
        "colab": {
          "base_uri": "https://localhost:8080/"
        },
        "id": "0lN6OwYFKvIC",
        "outputId": "66559fc9-dc76-44ad-bca9-dd24f3305b3f"
      },
      "outputs": [
        {
          "output_type": "stream",
          "name": "stdout",
          "text": [
            "Requirement already satisfied: pyspark in /usr/local/lib/python3.7/dist-packages (3.2.0)\n",
            "Requirement already satisfied: py4j==0.10.9.2 in /usr/local/lib/python3.7/dist-packages (from pyspark) (0.10.9.2)\n"
          ]
        }
      ],
      "source": [
        "pip install pyspark"
      ]
    },
    {
      "cell_type": "code",
      "source": [
        "from pyspark.sql import SparkSession\n",
        "spark = SparkSession.builder.appName('ml-demo').getOrCreate()"
      ],
      "metadata": {
        "id": "keCQD5gJMh91"
      },
      "execution_count": 2,
      "outputs": []
    },
    {
      "cell_type": "markdown",
      "source": [
        "We will use [bank dataset](https://www.kaggle.com/rouseguy/bankbalanced/data) downloaded from Kaggle for demonstraing some of PySpark ML algorithms"
      ],
      "metadata": {
        "id": "0FfiiXkvJ5K_"
      }
    },
    {
      "cell_type": "code",
      "source": [
        "bank = spark.read.csv(\"bank.csv\", header=True, inferSchema = True)"
      ],
      "metadata": {
        "id": "ZsBHuyxNM9Yx"
      },
      "execution_count": 23,
      "outputs": []
    },
    {
      "cell_type": "code",
      "source": [
        "# Print schema\n",
        "bank.printSchema()"
      ],
      "metadata": {
        "colab": {
          "base_uri": "https://localhost:8080/"
        },
        "id": "_eP6ZqM5NPxP",
        "outputId": "c464fb23-0776-4ee9-8a5b-4653e3e3d5d2"
      },
      "execution_count": 24,
      "outputs": [
        {
          "output_type": "stream",
          "name": "stdout",
          "text": [
            "root\n",
            " |-- age: integer (nullable = true)\n",
            " |-- job: string (nullable = true)\n",
            " |-- marital: string (nullable = true)\n",
            " |-- education: string (nullable = true)\n",
            " |-- default: string (nullable = true)\n",
            " |-- balance: integer (nullable = true)\n",
            " |-- housing: string (nullable = true)\n",
            " |-- loan: string (nullable = true)\n",
            " |-- contact: string (nullable = true)\n",
            " |-- day: integer (nullable = true)\n",
            " |-- month: string (nullable = true)\n",
            " |-- duration: integer (nullable = true)\n",
            " |-- campaign: integer (nullable = true)\n",
            " |-- pdays: integer (nullable = true)\n",
            " |-- previous: integer (nullable = true)\n",
            " |-- poutcome: string (nullable = true)\n",
            " |-- deposit: string (nullable = true)\n",
            "\n"
          ]
        }
      ]
    },
    {
      "cell_type": "code",
      "source": [
        "# Show the first 10 rows\n",
        "bank.show(10)"
      ],
      "metadata": {
        "colab": {
          "base_uri": "https://localhost:8080/"
        },
        "id": "-iid3StmNW6t",
        "outputId": "2c82781f-1831-4300-a0c8-1eddd09de2bf"
      },
      "execution_count": 25,
      "outputs": [
        {
          "output_type": "stream",
          "name": "stdout",
          "text": [
            "+---+----------+--------+---------+-------+-------+-------+----+-------+---+-----+--------+--------+-----+--------+--------+-------+\n",
            "|age|       job| marital|education|default|balance|housing|loan|contact|day|month|duration|campaign|pdays|previous|poutcome|deposit|\n",
            "+---+----------+--------+---------+-------+-------+-------+----+-------+---+-----+--------+--------+-----+--------+--------+-------+\n",
            "| 59|    admin.| married|secondary|     no|   2343|    yes|  no|unknown|  5|  may|    1042|       1|   -1|       0| unknown|    yes|\n",
            "| 56|    admin.| married|secondary|     no|     45|     no|  no|unknown|  5|  may|    1467|       1|   -1|       0| unknown|    yes|\n",
            "| 41|technician| married|secondary|     no|   1270|    yes|  no|unknown|  5|  may|    1389|       1|   -1|       0| unknown|    yes|\n",
            "| 55|  services| married|secondary|     no|   2476|    yes|  no|unknown|  5|  may|     579|       1|   -1|       0| unknown|    yes|\n",
            "| 54|    admin.| married| tertiary|     no|    184|     no|  no|unknown|  5|  may|     673|       2|   -1|       0| unknown|    yes|\n",
            "| 42|management|  single| tertiary|     no|      0|    yes| yes|unknown|  5|  may|     562|       2|   -1|       0| unknown|    yes|\n",
            "| 56|management| married| tertiary|     no|    830|    yes| yes|unknown|  6|  may|    1201|       1|   -1|       0| unknown|    yes|\n",
            "| 60|   retired|divorced|secondary|     no|    545|    yes|  no|unknown|  6|  may|    1030|       1|   -1|       0| unknown|    yes|\n",
            "| 37|technician| married|secondary|     no|      1|    yes|  no|unknown|  6|  may|     608|       1|   -1|       0| unknown|    yes|\n",
            "| 28|  services|  single|secondary|     no|   5090|    yes|  no|unknown|  6|  may|    1297|       3|   -1|       0| unknown|    yes|\n",
            "+---+----------+--------+---------+-------+-------+-------+----+-------+---+-----+--------+--------+-----+--------+--------+-------+\n",
            "only showing top 10 rows\n",
            "\n"
          ]
        }
      ]
    },
    {
      "cell_type": "markdown",
      "source": [
        "For ML, \\\n",
        "input variables are: age, job, marital, education, default, balance, housing, loan, contact, day, month, duration, campaign, pdays, previous, poutcome \\\n",
        "output variable: deposit"
      ],
      "metadata": {
        "id": "yU25NOlRNpK0"
      }
    },
    {
      "cell_type": "code",
      "source": [
        "# Let's check the distribution of classes\n",
        "from pyspark.sql.functions import col\n",
        "bank.filter(col('deposit').like(\"yes\")).count(), bank.filter(col('deposit').like(\"no\")).count()"
      ],
      "metadata": {
        "colab": {
          "base_uri": "https://localhost:8080/"
        },
        "id": "7CQH7ZLROEbB",
        "outputId": "fe17f948-5a1d-451d-9d55-849519606cea"
      },
      "execution_count": 26,
      "outputs": [
        {
          "output_type": "execute_result",
          "data": {
            "text/plain": [
              "(5289, 5873)"
            ]
          },
          "metadata": {},
          "execution_count": 26
        }
      ]
    },
    {
      "cell_type": "markdown",
      "source": [
        "Our classes are perfect balanced"
      ],
      "metadata": {
        "id": "9EmTfSljQEjj"
      }
    },
    {
      "cell_type": "markdown",
      "source": [
        "day and month columns are not really useful, we will remove these two columns"
      ],
      "metadata": {
        "id": "U9lEe4my4mVK"
      }
    },
    {
      "cell_type": "code",
      "source": [
        "bank = bank.select('age', 'job', 'marital', 'education', 'default', 'balance', 'housing', 'loan', 'contact', 'duration', 'campaign', 'pdays', 'previous', 'poutcome', 'deposit')\n",
        "cols = bank.columns"
      ],
      "metadata": {
        "id": "-6LPdO5F4hku"
      },
      "execution_count": 129,
      "outputs": []
    },
    {
      "cell_type": "markdown",
      "source": [
        "# Preprocess Data\n",
        "To use algorithms like Logistic Regression, you must first convert the categorical variables in the dataset into numeric variables. There are two ways to do this.\n",
        "\n",
        "1. Category Indexing: This is basically assigning a numeric value to each category from {0, 1, 2, ...numCategories-1}. This introduces an implicit ordering among your categories, and is more suitable for ordinal variables (eg: Poor: 0, Average: 1, Good: 2)\n",
        "\n",
        "2. One-Hot Encoding: This converts categories into binary vectors with at most one nonzero value (eg: (Blue: [1, 0]), (Green: [0, 1]), (Red: [0, 0]))\n",
        "\n",
        "We will use a combination of StringIndexer and either OneHotEncoder to convert the categorical variables. \n",
        "\n",
        "OneHotEncoder and OneHotEncoderEstimator return a SparseVector.\n",
        "\n",
        "Since there is more than one stage of feature transformations, use a Pipeline to tie the stages together. This simplifies the code."
      ],
      "metadata": {
        "id": "7pPb2DVVQuIQ"
      }
    },
    {
      "cell_type": "code",
      "source": [
        "from pyspark.ml.feature import StringIndexer, VectorAssembler, OneHotEncoder"
      ],
      "metadata": {
        "id": "pM-lxnFK0gfc"
      },
      "execution_count": 130,
      "outputs": []
    },
    {
      "cell_type": "code",
      "source": [
        "# Select all the categorial columns\n",
        "categoricalColumns = ['job', 'marital', 'education', 'default', 'housing', 'loan', 'contact', 'poutcome']\n",
        "stages = []"
      ],
      "metadata": {
        "id": "1Tfd6-6j1XKI"
      },
      "execution_count": 131,
      "outputs": []
    },
    {
      "cell_type": "markdown",
      "source": [
        "Let's index each categorical column using the StringIndexer, then converts the indexed categories into one-hot encoded variables"
      ],
      "metadata": {
        "id": "mULSdf5-16V6"
      }
    },
    {
      "cell_type": "code",
      "source": [
        "for categoricalCol in categoricalColumns:\n",
        "    stringIndexer = StringIndexer(inputCol = categoricalCol, outputCol = categoricalCol + 'Index')\n",
        "    encoder = OneHotEncoder(inputCols=[stringIndexer.getOutputCol()], outputCols=[categoricalCol + \"classVec\"])\n",
        "    stages += [stringIndexer, encoder]"
      ],
      "metadata": {
        "id": "UJg2lMzN1s9K"
      },
      "execution_count": 132,
      "outputs": []
    },
    {
      "cell_type": "markdown",
      "source": [
        "We use the StringIndexer again to encode our labels to label indices"
      ],
      "metadata": {
        "id": "c0C9SJnx2kQG"
      }
    },
    {
      "cell_type": "code",
      "source": [
        "label_stringIdx = StringIndexer(inputCol = 'deposit', outputCol = 'label')\n",
        "stages += [label_stringIdx]"
      ],
      "metadata": {
        "id": "WCVt9HGB1smJ"
      },
      "execution_count": 133,
      "outputs": []
    },
    {
      "cell_type": "markdown",
      "source": [
        "Next, we use the VectorAssembler to combine all the feature columns into a single vector column"
      ],
      "metadata": {
        "id": "UUySKngm2oCK"
      }
    },
    {
      "cell_type": "code",
      "source": [
        "# Select all the numerical variables\n",
        "numericCols = [c[0] for c in bank.dtypes if c[1] == \"int\"]\n",
        "\n",
        "# Concatenate them one by one and call this new vector “features”, which can be done using the PySpark VectorAssembler()\n",
        "assemblerInputs = [c + \"classVec\" for c in categoricalColumns] + numericCols\n",
        "assembler = VectorAssembler(inputCols=assemblerInputs, outputCol=\"features\")\n",
        "stages += [assembler]"
      ],
      "metadata": {
        "id": "jcGCmcdz1sKK"
      },
      "execution_count": 134,
      "outputs": []
    },
    {
      "cell_type": "markdown",
      "source": [
        "## Pipeline\n",
        "\n",
        "We use Pipeline to chain multiple Transformers and Estimators together to specify our machine learning workflow. A Pipeline’s stages are specified as an ordered array."
      ],
      "metadata": {
        "id": "ogvB0VXM3Iv5"
      }
    },
    {
      "cell_type": "code",
      "source": [
        "from pyspark.ml import Pipeline\n",
        "pipeline = Pipeline(stages=stages)\n",
        "model = pipeline.fit(bank)\n",
        "bank = model.transform(bank)\n",
        "bank.show()"
      ],
      "metadata": {
        "colab": {
          "base_uri": "https://localhost:8080/"
        },
        "id": "QyULE7Rb1rdb",
        "outputId": "9bc5d7c6-bfa0-413a-9bb1-032e51cfac08"
      },
      "execution_count": 135,
      "outputs": [
        {
          "output_type": "stream",
          "name": "stdout",
          "text": [
            "+---+-----------+--------+---------+-------+-------+-------+----+-------+--------+--------+-----+--------+--------+-------+--------+--------------+------------+---------------+--------------+-----------------+------------+---------------+------------+---------------+---------+-------------+------------+---------------+-------------+----------------+-----+--------------------+\n",
            "|age|        job| marital|education|default|balance|housing|loan|contact|duration|campaign|pdays|previous|poutcome|deposit|jobIndex|   jobclassVec|maritalIndex|maritalclassVec|educationIndex|educationclassVec|defaultIndex|defaultclassVec|housingIndex|housingclassVec|loanIndex| loanclassVec|contactIndex|contactclassVec|poutcomeIndex|poutcomeclassVec|label|            features|\n",
            "+---+-----------+--------+---------+-------+-------+-------+----+-------+--------+--------+-----+--------+--------+-------+--------+--------------+------------+---------------+--------------+-----------------+------------+---------------+------------+---------------+---------+-------------+------------+---------------+-------------+----------------+-----+--------------------+\n",
            "| 59|     admin.| married|secondary|     no|   2343|    yes|  no|unknown|    1042|       1|   -1|       0| unknown|    yes|     3.0|(11,[3],[1.0])|         0.0|  (2,[0],[1.0])|           0.0|    (3,[0],[1.0])|         0.0|  (1,[0],[1.0])|         1.0|      (1,[],[])|      0.0|(1,[0],[1.0])|         1.0|  (2,[1],[1.0])|          0.0|   (3,[0],[1.0])|  1.0|(30,[3,11,13,16,1...|\n",
            "| 56|     admin.| married|secondary|     no|     45|     no|  no|unknown|    1467|       1|   -1|       0| unknown|    yes|     3.0|(11,[3],[1.0])|         0.0|  (2,[0],[1.0])|           0.0|    (3,[0],[1.0])|         0.0|  (1,[0],[1.0])|         0.0|  (1,[0],[1.0])|      0.0|(1,[0],[1.0])|         1.0|  (2,[1],[1.0])|          0.0|   (3,[0],[1.0])|  1.0|(30,[3,11,13,16,1...|\n",
            "| 41| technician| married|secondary|     no|   1270|    yes|  no|unknown|    1389|       1|   -1|       0| unknown|    yes|     2.0|(11,[2],[1.0])|         0.0|  (2,[0],[1.0])|           0.0|    (3,[0],[1.0])|         0.0|  (1,[0],[1.0])|         1.0|      (1,[],[])|      0.0|(1,[0],[1.0])|         1.0|  (2,[1],[1.0])|          0.0|   (3,[0],[1.0])|  1.0|(30,[2,11,13,16,1...|\n",
            "| 55|   services| married|secondary|     no|   2476|    yes|  no|unknown|     579|       1|   -1|       0| unknown|    yes|     4.0|(11,[4],[1.0])|         0.0|  (2,[0],[1.0])|           0.0|    (3,[0],[1.0])|         0.0|  (1,[0],[1.0])|         1.0|      (1,[],[])|      0.0|(1,[0],[1.0])|         1.0|  (2,[1],[1.0])|          0.0|   (3,[0],[1.0])|  1.0|(30,[4,11,13,16,1...|\n",
            "| 54|     admin.| married| tertiary|     no|    184|     no|  no|unknown|     673|       2|   -1|       0| unknown|    yes|     3.0|(11,[3],[1.0])|         0.0|  (2,[0],[1.0])|           1.0|    (3,[1],[1.0])|         0.0|  (1,[0],[1.0])|         0.0|  (1,[0],[1.0])|      0.0|(1,[0],[1.0])|         1.0|  (2,[1],[1.0])|          0.0|   (3,[0],[1.0])|  1.0|(30,[3,11,14,16,1...|\n",
            "| 42| management|  single| tertiary|     no|      0|    yes| yes|unknown|     562|       2|   -1|       0| unknown|    yes|     0.0|(11,[0],[1.0])|         1.0|  (2,[1],[1.0])|           1.0|    (3,[1],[1.0])|         0.0|  (1,[0],[1.0])|         1.0|      (1,[],[])|      1.0|    (1,[],[])|         1.0|  (2,[1],[1.0])|          0.0|   (3,[0],[1.0])|  1.0|(30,[0,12,14,16,2...|\n",
            "| 56| management| married| tertiary|     no|    830|    yes| yes|unknown|    1201|       1|   -1|       0| unknown|    yes|     0.0|(11,[0],[1.0])|         0.0|  (2,[0],[1.0])|           1.0|    (3,[1],[1.0])|         0.0|  (1,[0],[1.0])|         1.0|      (1,[],[])|      1.0|    (1,[],[])|         1.0|  (2,[1],[1.0])|          0.0|   (3,[0],[1.0])|  1.0|(30,[0,11,14,16,2...|\n",
            "| 60|    retired|divorced|secondary|     no|    545|    yes|  no|unknown|    1030|       1|   -1|       0| unknown|    yes|     5.0|(11,[5],[1.0])|         2.0|      (2,[],[])|           0.0|    (3,[0],[1.0])|         0.0|  (1,[0],[1.0])|         1.0|      (1,[],[])|      0.0|(1,[0],[1.0])|         1.0|  (2,[1],[1.0])|          0.0|   (3,[0],[1.0])|  1.0|(30,[5,13,16,18,2...|\n",
            "| 37| technician| married|secondary|     no|      1|    yes|  no|unknown|     608|       1|   -1|       0| unknown|    yes|     2.0|(11,[2],[1.0])|         0.0|  (2,[0],[1.0])|           0.0|    (3,[0],[1.0])|         0.0|  (1,[0],[1.0])|         1.0|      (1,[],[])|      0.0|(1,[0],[1.0])|         1.0|  (2,[1],[1.0])|          0.0|   (3,[0],[1.0])|  1.0|(30,[2,11,13,16,1...|\n",
            "| 28|   services|  single|secondary|     no|   5090|    yes|  no|unknown|    1297|       3|   -1|       0| unknown|    yes|     4.0|(11,[4],[1.0])|         1.0|  (2,[1],[1.0])|           0.0|    (3,[0],[1.0])|         0.0|  (1,[0],[1.0])|         1.0|      (1,[],[])|      0.0|(1,[0],[1.0])|         1.0|  (2,[1],[1.0])|          0.0|   (3,[0],[1.0])|  1.0|(30,[4,12,13,16,1...|\n",
            "| 38|     admin.|  single|secondary|     no|    100|    yes|  no|unknown|     786|       1|   -1|       0| unknown|    yes|     3.0|(11,[3],[1.0])|         1.0|  (2,[1],[1.0])|           0.0|    (3,[0],[1.0])|         0.0|  (1,[0],[1.0])|         1.0|      (1,[],[])|      0.0|(1,[0],[1.0])|         1.0|  (2,[1],[1.0])|          0.0|   (3,[0],[1.0])|  1.0|(30,[3,12,13,16,1...|\n",
            "| 30|blue-collar| married|secondary|     no|    309|    yes|  no|unknown|    1574|       2|   -1|       0| unknown|    yes|     1.0|(11,[1],[1.0])|         0.0|  (2,[0],[1.0])|           0.0|    (3,[0],[1.0])|         0.0|  (1,[0],[1.0])|         1.0|      (1,[],[])|      0.0|(1,[0],[1.0])|         1.0|  (2,[1],[1.0])|          0.0|   (3,[0],[1.0])|  1.0|(30,[1,11,13,16,1...|\n",
            "| 29| management| married| tertiary|     no|    199|    yes| yes|unknown|    1689|       4|   -1|       0| unknown|    yes|     0.0|(11,[0],[1.0])|         0.0|  (2,[0],[1.0])|           1.0|    (3,[1],[1.0])|         0.0|  (1,[0],[1.0])|         1.0|      (1,[],[])|      1.0|    (1,[],[])|         1.0|  (2,[1],[1.0])|          0.0|   (3,[0],[1.0])|  1.0|(30,[0,11,14,16,2...|\n",
            "| 46|blue-collar|  single| tertiary|     no|    460|    yes|  no|unknown|    1102|       2|   -1|       0| unknown|    yes|     1.0|(11,[1],[1.0])|         1.0|  (2,[1],[1.0])|           1.0|    (3,[1],[1.0])|         0.0|  (1,[0],[1.0])|         1.0|      (1,[],[])|      0.0|(1,[0],[1.0])|         1.0|  (2,[1],[1.0])|          0.0|   (3,[0],[1.0])|  1.0|(30,[1,12,14,16,1...|\n",
            "| 31| technician|  single| tertiary|     no|    703|    yes|  no|unknown|     943|       2|   -1|       0| unknown|    yes|     2.0|(11,[2],[1.0])|         1.0|  (2,[1],[1.0])|           1.0|    (3,[1],[1.0])|         0.0|  (1,[0],[1.0])|         1.0|      (1,[],[])|      0.0|(1,[0],[1.0])|         1.0|  (2,[1],[1.0])|          0.0|   (3,[0],[1.0])|  1.0|(30,[2,12,14,16,1...|\n",
            "| 35| management|divorced| tertiary|     no|   3837|    yes|  no|unknown|    1084|       1|   -1|       0| unknown|    yes|     0.0|(11,[0],[1.0])|         2.0|      (2,[],[])|           1.0|    (3,[1],[1.0])|         0.0|  (1,[0],[1.0])|         1.0|      (1,[],[])|      0.0|(1,[0],[1.0])|         1.0|  (2,[1],[1.0])|          0.0|   (3,[0],[1.0])|  1.0|(30,[0,14,16,18,2...|\n",
            "| 32|blue-collar|  single|  primary|     no|    611|    yes|  no|unknown|     541|       3|   -1|       0| unknown|    yes|     1.0|(11,[1],[1.0])|         1.0|  (2,[1],[1.0])|           2.0|    (3,[2],[1.0])|         0.0|  (1,[0],[1.0])|         1.0|      (1,[],[])|      0.0|(1,[0],[1.0])|         1.0|  (2,[1],[1.0])|          0.0|   (3,[0],[1.0])|  1.0|(30,[1,12,15,16,1...|\n",
            "| 49|   services| married|secondary|     no|     -8|    yes|  no|unknown|    1119|       1|   -1|       0| unknown|    yes|     4.0|(11,[4],[1.0])|         0.0|  (2,[0],[1.0])|           0.0|    (3,[0],[1.0])|         0.0|  (1,[0],[1.0])|         1.0|      (1,[],[])|      0.0|(1,[0],[1.0])|         1.0|  (2,[1],[1.0])|          0.0|   (3,[0],[1.0])|  1.0|(30,[4,11,13,16,1...|\n",
            "| 41|     admin.| married|secondary|     no|     55|    yes|  no|unknown|    1120|       2|   -1|       0| unknown|    yes|     3.0|(11,[3],[1.0])|         0.0|  (2,[0],[1.0])|           0.0|    (3,[0],[1.0])|         0.0|  (1,[0],[1.0])|         1.0|      (1,[],[])|      0.0|(1,[0],[1.0])|         1.0|  (2,[1],[1.0])|          0.0|   (3,[0],[1.0])|  1.0|(30,[3,11,13,16,1...|\n",
            "| 49|     admin.|divorced|secondary|     no|    168|    yes| yes|unknown|     513|       1|   -1|       0| unknown|    yes|     3.0|(11,[3],[1.0])|         2.0|      (2,[],[])|           0.0|    (3,[0],[1.0])|         0.0|  (1,[0],[1.0])|         1.0|      (1,[],[])|      1.0|    (1,[],[])|         1.0|  (2,[1],[1.0])|          0.0|   (3,[0],[1.0])|  1.0|(30,[3,13,16,20,2...|\n",
            "+---+-----------+--------+---------+-------+-------+-------+----+-------+--------+--------+-----+--------+--------+-------+--------+--------------+------------+---------------+--------------+-----------------+------------+---------------+------------+---------------+---------+-------------+------------+---------------+-------------+----------------+-----+--------------------+\n",
            "only showing top 20 rows\n",
            "\n"
          ]
        }
      ]
    },
    {
      "cell_type": "code",
      "source": [
        "# Select the specified columns\n",
        "columns_selected = ['label', 'features'] + cols\n",
        "bank = bank.select(columns_selected)\n",
        "bank.show()"
      ],
      "metadata": {
        "colab": {
          "base_uri": "https://localhost:8080/"
        },
        "id": "m0z-ja43Qtv9",
        "outputId": "1abf3cde-4d03-447f-d3a0-8e7b88f44a2b"
      },
      "execution_count": 136,
      "outputs": [
        {
          "output_type": "stream",
          "name": "stdout",
          "text": [
            "+-----+--------------------+---+-----------+--------+---------+-------+-------+-------+----+-------+--------+--------+-----+--------+--------+-------+\n",
            "|label|            features|age|        job| marital|education|default|balance|housing|loan|contact|duration|campaign|pdays|previous|poutcome|deposit|\n",
            "+-----+--------------------+---+-----------+--------+---------+-------+-------+-------+----+-------+--------+--------+-----+--------+--------+-------+\n",
            "|  1.0|(30,[3,11,13,16,1...| 59|     admin.| married|secondary|     no|   2343|    yes|  no|unknown|    1042|       1|   -1|       0| unknown|    yes|\n",
            "|  1.0|(30,[3,11,13,16,1...| 56|     admin.| married|secondary|     no|     45|     no|  no|unknown|    1467|       1|   -1|       0| unknown|    yes|\n",
            "|  1.0|(30,[2,11,13,16,1...| 41| technician| married|secondary|     no|   1270|    yes|  no|unknown|    1389|       1|   -1|       0| unknown|    yes|\n",
            "|  1.0|(30,[4,11,13,16,1...| 55|   services| married|secondary|     no|   2476|    yes|  no|unknown|     579|       1|   -1|       0| unknown|    yes|\n",
            "|  1.0|(30,[3,11,14,16,1...| 54|     admin.| married| tertiary|     no|    184|     no|  no|unknown|     673|       2|   -1|       0| unknown|    yes|\n",
            "|  1.0|(30,[0,12,14,16,2...| 42| management|  single| tertiary|     no|      0|    yes| yes|unknown|     562|       2|   -1|       0| unknown|    yes|\n",
            "|  1.0|(30,[0,11,14,16,2...| 56| management| married| tertiary|     no|    830|    yes| yes|unknown|    1201|       1|   -1|       0| unknown|    yes|\n",
            "|  1.0|(30,[5,13,16,18,2...| 60|    retired|divorced|secondary|     no|    545|    yes|  no|unknown|    1030|       1|   -1|       0| unknown|    yes|\n",
            "|  1.0|(30,[2,11,13,16,1...| 37| technician| married|secondary|     no|      1|    yes|  no|unknown|     608|       1|   -1|       0| unknown|    yes|\n",
            "|  1.0|(30,[4,12,13,16,1...| 28|   services|  single|secondary|     no|   5090|    yes|  no|unknown|    1297|       3|   -1|       0| unknown|    yes|\n",
            "|  1.0|(30,[3,12,13,16,1...| 38|     admin.|  single|secondary|     no|    100|    yes|  no|unknown|     786|       1|   -1|       0| unknown|    yes|\n",
            "|  1.0|(30,[1,11,13,16,1...| 30|blue-collar| married|secondary|     no|    309|    yes|  no|unknown|    1574|       2|   -1|       0| unknown|    yes|\n",
            "|  1.0|(30,[0,11,14,16,2...| 29| management| married| tertiary|     no|    199|    yes| yes|unknown|    1689|       4|   -1|       0| unknown|    yes|\n",
            "|  1.0|(30,[1,12,14,16,1...| 46|blue-collar|  single| tertiary|     no|    460|    yes|  no|unknown|    1102|       2|   -1|       0| unknown|    yes|\n",
            "|  1.0|(30,[2,12,14,16,1...| 31| technician|  single| tertiary|     no|    703|    yes|  no|unknown|     943|       2|   -1|       0| unknown|    yes|\n",
            "|  1.0|(30,[0,14,16,18,2...| 35| management|divorced| tertiary|     no|   3837|    yes|  no|unknown|    1084|       1|   -1|       0| unknown|    yes|\n",
            "|  1.0|(30,[1,12,15,16,1...| 32|blue-collar|  single|  primary|     no|    611|    yes|  no|unknown|     541|       3|   -1|       0| unknown|    yes|\n",
            "|  1.0|(30,[4,11,13,16,1...| 49|   services| married|secondary|     no|     -8|    yes|  no|unknown|    1119|       1|   -1|       0| unknown|    yes|\n",
            "|  1.0|(30,[3,11,13,16,1...| 41|     admin.| married|secondary|     no|     55|    yes|  no|unknown|    1120|       2|   -1|       0| unknown|    yes|\n",
            "|  1.0|(30,[3,13,16,20,2...| 49|     admin.|divorced|secondary|     no|    168|    yes| yes|unknown|     513|       1|   -1|       0| unknown|    yes|\n",
            "+-----+--------------------+---+-----------+--------+---------+-------+-------+-------+----+-------+--------+--------+-----+--------+--------+-------+\n",
            "only showing top 20 rows\n",
            "\n"
          ]
        }
      ]
    },
    {
      "cell_type": "markdown",
      "source": [
        "we now have features column and label column appended to the original dataset (without date and time columns "
      ],
      "metadata": {
        "id": "Cce8J4HJRnCY"
      }
    },
    {
      "cell_type": "markdown",
      "source": [
        "# Data Segregration\n",
        "Let's randomly split data into train and test sets and set seed for reproducibility"
      ],
      "metadata": {
        "id": "TfNBAu4P6X5g"
      }
    },
    {
      "cell_type": "code",
      "source": [
        "train, test = bank.randomSplit([0.7, 0.3], seed = 2021)\n",
        "train.count(), test.count()"
      ],
      "metadata": {
        "id": "eLwjooscRnpv",
        "colab": {
          "base_uri": "https://localhost:8080/"
        },
        "outputId": "4c79463d-869d-45f8-f70f-428ce5a58a76"
      },
      "execution_count": 38,
      "outputs": [
        {
          "output_type": "execute_result",
          "data": {
            "text/plain": [
              "(7816, 3346)"
            ]
          },
          "metadata": {},
          "execution_count": 38
        }
      ]
    },
    {
      "cell_type": "markdown",
      "source": [
        "# Logistic Regression Model"
      ],
      "metadata": {
        "id": "QPRiGc3qTwi8"
      }
    },
    {
      "cell_type": "code",
      "source": [
        "from pyspark.ml.classification import LogisticRegression"
      ],
      "metadata": {
        "id": "lV7_eJ15ORfC"
      },
      "execution_count": 39,
      "outputs": []
    },
    {
      "cell_type": "code",
      "source": [
        "lr = LogisticRegression(featuresCol='features', labelCol='label', maxIter=5)\n",
        "lr_model = lr.fit(train)"
      ],
      "metadata": {
        "id": "-n193bNR61Mk"
      },
      "execution_count": 40,
      "outputs": []
    },
    {
      "cell_type": "markdown",
      "source": [
        "plot the LR model coeffficients"
      ],
      "metadata": {
        "id": "Oq3TPfiBMDkE"
      }
    },
    {
      "cell_type": "code",
      "source": [
        "import matplotlib.pyplot as plt\n",
        "import numpy as np\n",
        "plt.plot(np.sort(lr_model.coefficients))"
      ],
      "metadata": {
        "colab": {
          "base_uri": "https://localhost:8080/",
          "height": 282
        },
        "id": "ud4QQNKGQWFT",
        "outputId": "6d093196-d811-4fe6-8804-cfb8f9628422"
      },
      "execution_count": 44,
      "outputs": [
        {
          "output_type": "execute_result",
          "data": {
            "text/plain": [
              "[<matplotlib.lines.Line2D at 0x7f2c5cfd7110>]"
            ]
          },
          "metadata": {},
          "execution_count": 44
        },
        {
          "output_type": "display_data",
          "data": {
            "image/png": "[encoded data removed]",
            "text/plain": [
              "<Figure size 432x288 with 1 Axes>"
            ]
          },
          "metadata": {
            "needs_background": "light"
          }
        }
      ]
    },
    {
      "cell_type": "markdown",
      "source": [
        "## ROC Curve"
      ],
      "metadata": {
        "id": "mVhlBSzSMwgn"
      }
    },
    {
      "cell_type": "code",
      "source": [
        "roc_df = lr_model.summary.roc\n",
        "roc_df.show()"
      ],
      "metadata": {
        "id": "3nmqZu8pQiFy",
        "colab": {
          "base_uri": "https://localhost:8080/"
        },
        "outputId": "77d61444-6d20-4a00-aaff-e16de232efb4"
      },
      "execution_count": 137,
      "outputs": [
        {
          "output_type": "stream",
          "name": "stdout",
          "text": [
            "+--------------------+--------------------+\n",
            "|                 FPR|                 TPR|\n",
            "+--------------------+--------------------+\n",
            "|                 0.0|                 0.0|\n",
            "| 2.43605359317905E-4|0.001616814874696...|\n",
            "| 2.43605359317905E-4|0.003503098895176...|\n",
            "|  4.8721071863581E-4|0.005119913769873349|\n",
            "| 7.30816077953715E-4|0.006736728644570197|\n",
            "| 7.30816077953715E-4|0.008623012665049851|\n",
            "| 7.30816077953715E-4|0.010509296685529508|\n",
            "|  9.7442143727162E-4|0.012126111560226353|\n",
            "|  9.7442143727162E-4| 0.01401239558070601|\n",
            "| 0.00146163215590743|0.015359741309620048|\n",
            "| 0.00146163215590743|0.017246025330099703|\n",
            "| 0.00146163215590743|0.019132309350579357|\n",
            "| 0.00194884287454324|0.020479655079493397|\n",
            "| 0.00194884287454324|0.022365939099973052|\n",
            "| 0.00194884287454324|0.024252223120452707|\n",
            "| 0.00194884287454324|0.026138507140932365|\n",
            "| 0.00194884287454324| 0.02802479116141202|\n",
            "|0.002192448233861145|0.029641606036108867|\n",
            "| 0.00243605359317905| 0.03125842091080571|\n",
            "|0.002679658952496955| 0.03287523578550256|\n",
            "+--------------------+--------------------+\n",
            "only showing top 20 rows\n",
            "\n"
          ]
        },
        {
          "output_type": "stream",
          "name": "stderr",
          "text": [
            "/usr/local/lib/python3.7/dist-packages/pyspark/sql/context.py:127: FutureWarning: Deprecated in 3.0.0. Use SparkSession.builder.getOrCreate() instead.\n",
            "  FutureWarning\n"
          ]
        }
      ]
    },
    {
      "cell_type": "code",
      "source": [
        "roc_df_pandas = roc_df.toPandas()\n",
        "roc_df_pandas\n",
        "plt.plot(roc_df_pandas['FPR'], roc_df_pandas['TPR'])\n",
        "plt.xlabel(\"True Positive Rate\")\n",
        "plt.ylabel(\"False Positive Rate\")\n",
        "plt.title(\"ROC Curve\")\n",
        "\n",
        "arc = round(lr_model.summary.areaUnderROC, 2)\n",
        "print('Training set areaUnderROC: ' + str(arc))"
      ],
      "metadata": {
        "colab": {
          "base_uri": "https://localhost:8080/",
          "height": 312
        },
        "id": "vCYtzsfh7lbB",
        "outputId": "d92e76f4-0945-456b-bf3c-c6a6977ab06a"
      },
      "execution_count": 138,
      "outputs": [
        {
          "output_type": "stream",
          "name": "stdout",
          "text": [
            "Training set areaUnderROC: 0.89\n"
          ]
        },
        {
          "output_type": "display_data",
          "data": {
            "image/png": "[encoded data removed]",
            "text/plain": [
              "<Figure size 432x288 with 1 Axes>"
            ]
          },
          "metadata": {
            "needs_background": "light"
          }
        }
      ]
    },
    {
      "cell_type": "markdown",
      "source": [
        "# Model evaluation\n",
        "For a binary classification problem, it is common practice to evaluate the performance of the model by plotting the ROC (Receiver Operating Characteristic) curve or calculating precision, recall, and F1-scores. For Random Forest classifier and Logistic Regression model, use the following code to calculate the AUC (area under ROC curve), precision, and recall, etc:"
      ],
      "metadata": {
        "id": "L76UrJ-f-OM3"
      }
    },
    {
      "cell_type": "code",
      "source": [
        "pred = lr_model.transform(test)\n",
        "pred.show()"
      ],
      "metadata": {
        "colab": {
          "base_uri": "https://localhost:8080/"
        },
        "id": "U0vwjWlU9lsp",
        "outputId": "d6bbd334-1279-462c-bedd-663c23ca7af0"
      },
      "execution_count": 73,
      "outputs": [
        {
          "output_type": "stream",
          "name": "stdout",
          "text": [
            "+-----+--------------------+---+----------+-------+---------+-------+-------+-------+----+--------+--------+--------+-----+--------+--------+-------+--------------------+--------------------+----------+\n",
            "|label|            features|age|       job|marital|education|default|balance|housing|loan| contact|duration|campaign|pdays|previous|poutcome|deposit|       rawPrediction|         probability|prediction|\n",
            "+-----+--------------------+---+----------+-------+---------+-------+-------+-------+----+--------+--------+--------+-----+--------+--------+-------+--------------------+--------------------+----------+\n",
            "|  0.0|(30,[0,11,13,16,1...| 35|management|married|secondary|     no|    533|     no|  no|cellular|     221|      12|   -1|       0| unknown|     no|[1.79698140339589...|[0.85778108592123...|       0.0|\n",
            "|  0.0|(30,[0,11,13,16,1...| 37|management|married|secondary|     no|     80|     no|  no|cellular|     155|       3|   -1|       0| unknown|     no|[1.12219507827846...|[0.75439565388911...|       0.0|\n",
            "|  0.0|(30,[0,11,13,16,1...| 42|management|married|secondary|     no|    580|     no|  no|cellular|      67|       2|   -1|       0| unknown|     no|[1.44454939023413...|[0.80915816213894...|       0.0|\n",
            "|  0.0|(30,[0,11,13,16,1...| 42|management|married|secondary|     no|   1018|     no|  no|cellular|     305|       2|   -1|       0| unknown|     no|[0.18766018860049...|[0.54677784891267...|       0.0|\n",
            "|  0.0|(30,[0,11,13,16,1...| 51|management|married|secondary|     no|   1573|     no|  no|cellular|      72|      18|   -1|       0| unknown|     no|[3.20301693839926...|[0.96094765221976...|       0.0|\n",
            "|  0.0|(30,[0,11,13,16,1...| 61|management|married|secondary|     no|    967|     no|  no|cellular|     180|       1|   -1|       0| unknown|     no|[0.69327758567441...|[0.66669564495113...|       0.0|\n",
            "|  0.0|(30,[0,11,13,16,1...| 38|management|married|secondary|     no|     93|     no|  no| unknown|     515|       2|   -1|       0| unknown|     no|[0.29221996837901...|[0.57253953087237...|       0.0|\n",
            "|  0.0|(30,[0,11,13,16,1...| 46|management|married|secondary|     no|      0|     no|  no| unknown|     155|       1|   -1|       0| unknown|     no|[2.04810463604760...|[0.88575596259815...|       0.0|\n",
            "|  0.0|(30,[0,11,13,16,1...| 35|management|married|secondary|     no|     53|    yes|  no|cellular|     378|       1|   -1|       0| unknown|     no|[0.57269193356652...|[0.63938409245753...|       0.0|\n",
            "|  0.0|(30,[0,11,13,16,1...| 40|management|married|secondary|     no|   4025|    yes|  no|cellular|     107|       4|   -1|       0| unknown|     no|[2.21064016028595...|[0.90120093992994...|       0.0|\n",
            "|  0.0|(30,[0,11,13,16,1...| 39|management|married|secondary|     no|      0|    yes|  no|cellular|      21|      21|   -1|       0| unknown|     no|[4.72028120838329...|[0.99116606211182...|       0.0|\n",
            "|  0.0|(30,[0,11,13,16,1...| 34|management|married|secondary|     no|     56|    yes|  no|cellular|     311|       3|  183|       1| failure|     no|[0.56546328691141...|[0.63771569465728...|       0.0|\n",
            "|  0.0|(30,[0,11,13,16,1...| 39|management|married|secondary|     no|    517|    yes|  no|cellular|     387|       3|  196|       2| failure|     no|[0.13251097345290...|[0.53307935372269...|       0.0|\n",
            "|  0.0|(30,[0,11,13,16,1...| 46|management|married|secondary|     no|     21|    yes|  no|cellular|     124|       1|  338|       2| failure|     no|[1.19992980207104...|[0.76851229544231...|       0.0|\n",
            "|  0.0|(30,[0,11,13,16,1...| 54|management|married|secondary|     no|   2895|    yes|  no|cellular|      20|       2|  256|       1| failure|     no|[1.81386677694723...|[0.85982856015322...|       0.0|\n",
            "|  0.0|(30,[0,11,13,16,1...| 35|management|married|secondary|     no|    839|    yes|  no| unknown|      50|       3|   -1|       0| unknown|     no|[3.66301687445203...|[0.97498671775368...|       0.0|\n",
            "|  0.0|(30,[0,11,13,16,1...| 49|management|married|secondary|     no|    543|    yes|  no| unknown|     213|       3|   -1|       0| unknown|     no|[2.79328249814943...|[0.94231174167128...|       0.0|\n",
            "|  0.0|(30,[0,11,13,16,1...| 53|management|married|secondary|     no|   2895|    yes|  no| unknown|      74|       1|   -1|       0| unknown|     no|[3.21720005189303...|[0.96147643973058...|       0.0|\n",
            "|  0.0|(30,[0,11,13,16,1...| 29|management|married|secondary|     no|      0|    yes|  no| unknown|      85|       4|   -1|       0| unknown|     no|[3.62926408427410...|[0.97415023643913...|       0.0|\n",
            "|  0.0|(30,[0,11,13,16,1...| 50|management|married|secondary|     no|      0|    yes|  no| unknown|      94|       4|   -1|       0| unknown|     no|[3.54342443008372...|[0.97189839104322...|       0.0|\n",
            "+-----+--------------------+---+----------+-------+---------+-------+-------+-------+----+--------+--------+--------+-----+--------+--------+-------+--------------------+--------------------+----------+\n",
            "only showing top 20 rows\n",
            "\n"
          ]
        }
      ]
    },
    {
      "cell_type": "code",
      "source": [
        "from pyspark.ml.evaluation import BinaryClassificationEvaluator\n",
        "\n",
        "evaluator = BinaryClassificationEvaluator()\n",
        "\n",
        "#Calculate AUC\n",
        "auc = evaluator.evaluate(pred,{evaluator.metricName: 'areaUnderROC'})\n",
        "print(f'Area under the curve: {round(auc,2)}')\n",
        "\n",
        "# compute TN, TP, FN, and FP\n",
        "pred.groupBy('label').count().show()\n",
        "TP = pred.filter('prediction == 1.0 AND label == 1.0').count()\n",
        "TN = pred.filter('prediction == 0.0 AND label == 0.0').count()\n",
        "FP = pred.filter('prediction == 1.0 AND label <> prediction').count()\n",
        "FN = pred.filter('prediction == 0.0 AND label <> prediction').count()\n",
        "\n",
        "# Calculate accuracy, precistion, recall and F1-score\n",
        "accuracy = round((TP + TN)/(TP + TN + FP + FN) * 100, 2)\n",
        "precision = round(TP / (TP + FP), 2)\n",
        "recall = round(TP / (TP + FN), 2)\n",
        "F1 = round(2 * (precision * recall) / (precision + recall), 2)\n",
        "\n",
        "print(f'Accuracy: {accuracy}')\n",
        "print(f'precision: {precision}')\n",
        "print(f'recall: {recall}')\n",
        "print(f'F1: {F1}')\n"
      ],
      "metadata": {
        "colab": {
          "base_uri": "https://localhost:8080/"
        },
        "id": "SuiBLsOuNjIU",
        "outputId": "4c161676-7484-42d2-c486-8cbc76f4d7ee"
      },
      "execution_count": 153,
      "outputs": [
        {
          "output_type": "stream",
          "name": "stdout",
          "text": [
            "Area under the curve: 0.88\n",
            "+-----+-----+\n",
            "|label|count|\n",
            "+-----+-----+\n",
            "|  0.0| 1768|\n",
            "|  1.0| 1578|\n",
            "+-----+-----+\n",
            "\n",
            "Accuracy: 79.92\n",
            "precision: 0.8\n",
            "recall: 0.76\n",
            "F1: 0.78\n"
          ]
        }
      ]
    },
    {
      "cell_type": "markdown",
      "source": [
        "# Decision Tree Classifier"
      ],
      "metadata": {
        "id": "lbZdlNGvSWPx"
      }
    },
    {
      "cell_type": "code",
      "source": [
        "from pyspark.ml.classification import DecisionTreeClassifier"
      ],
      "metadata": {
        "id": "x5xZdNWfTt4-"
      },
      "execution_count": 154,
      "outputs": []
    },
    {
      "cell_type": "code",
      "source": [
        "dt = DecisionTreeClassifier(featuresCol='features', labelCol='label', maxDepth=30)\n",
        "dt_model = dt.fit(train)"
      ],
      "metadata": {
        "id": "q4pqXxKBEWxT"
      },
      "execution_count": 156,
      "outputs": []
    },
    {
      "cell_type": "code",
      "source": [
        "pred_dt = dt_model.transform(test)"
      ],
      "metadata": {
        "id": "N97KHu1ETy0B"
      },
      "execution_count": 157,
      "outputs": []
    },
    {
      "cell_type": "code",
      "source": [
        "evaluator = BinaryClassificationEvaluator()\n",
        "\n",
        "#Calculate AUC\n",
        "auc = evaluator.evaluate(pred_dt,{evaluator.metricName: 'areaUnderROC'})\n",
        "print(f'Area under the curve: {round(auc,2)}')\n",
        "\n",
        "# compute TN, TP, FN, and FP\n",
        "pred_dt.groupBy('label').count().show()\n",
        "TP = pred_dt.filter('prediction == 1.0 AND label == 1.0').count()\n",
        "TN = pred_dt.filter('prediction == 0.0 AND label == 0.0').count()\n",
        "FP = pred_dt.filter('prediction == 1.0 AND label <> prediction').count()\n",
        "FN = pred_dt.filter('prediction == 0.0 AND label <> prediction').count()\n",
        "\n",
        "# Calculate accuracy, precistion, recall and F1-score\n",
        "accuracy = round((TP + TN)/(TP + TN + FP + FN) * 100, 2)\n",
        "precision = round(TP / (TP + FP), 2)\n",
        "recall = round(TP / (TP + FN), 2)\n",
        "F1 = round(2 * (precision * recall) / (precision + recall), 2)\n",
        "\n",
        "print(f'Accuracy: {accuracy}')\n",
        "print(f'precision: {precision}')\n",
        "print(f'recall: {recall}')\n",
        "print(f'F1: {F1}')\n"
      ],
      "metadata": {
        "colab": {
          "base_uri": "https://localhost:8080/"
        },
        "id": "ajN0702vUGs6",
        "outputId": "fdc889ea-60fd-4018-d35d-7e9fa82cdc55"
      },
      "execution_count": 158,
      "outputs": [
        {
          "output_type": "stream",
          "name": "stdout",
          "text": [
            "Area under the curve: 0.79\n",
            "+-----+-----+\n",
            "|label|count|\n",
            "+-----+-----+\n",
            "|  0.0| 1768|\n",
            "|  1.0| 1578|\n",
            "+-----+-----+\n",
            "\n",
            "Accuracy: 75.04\n",
            "precision: 0.73\n",
            "recall: 0.74\n",
            "F1: 0.73\n"
          ]
        }
      ]
    },
    {
      "cell_type": "code",
      "source": [
        ""
      ],
      "metadata": {
        "id": "s0xXHC6dUWH6"
      },
      "execution_count": null,
      "outputs": []
    }
  ]
}